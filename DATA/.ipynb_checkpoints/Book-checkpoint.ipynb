{
 "cells": [
  {
   "cell_type": "code",
   "execution_count": 1,
   "metadata": {
    "collapsed": true,
    "deletable": true,
    "editable": true,
    "slideshow": {
     "slide_type": "-"
    }
   },
   "outputs": [],
   "source": [
    "import matplotlib\n",
    "import matplotlib.pyplot as plt\n",
    "import pandas as pd\n",
    "import os\n",
    "import calendar"
   ]
  },
  {
   "cell_type": "code",
   "execution_count": 2,
   "metadata": {
    "collapsed": true,
    "deletable": true,
    "editable": true,
    "slideshow": {
     "slide_type": "-"
    }
   },
   "outputs": [],
   "source": [
    "%matplotlib inline\n",
    "plt.rcParams['figure.figsize'] = (10, 5)"
   ]
  },
  {
   "cell_type": "code",
   "execution_count": 3,
   "metadata": {
    "collapsed": true,
    "deletable": true,
    "editable": true,
    "slideshow": {
     "slide_type": "-"
    }
   },
   "outputs": [],
   "source": [
    "saved_style_state = matplotlib.rcParams.copy()"
   ]
  },
  {
   "cell_type": "code",
   "execution_count": 4,
   "metadata": {
    "collapsed": false,
    "deletable": true,
    "editable": true,
    "slideshow": {
     "slide_type": "-"
    }
   },
   "outputs": [],
   "source": [
    "dtypes = {\"BN_REG_DT\":\"str\", \"BN_CANCEL_DT\":\"str\"}\n",
    "parse_dates = [\"BN_REG_DT\", \"BN_RENEW_DT\"]\n",
    "dateparse = lambda x: pd.datetime.strptime(x, \"%d/%m/%Y\")\n",
    "df = pd.read_csv(\"Book1.csv\", dtype=dtypes, parse_dates=parse_dates, date_parser=dateparse)"
   ]
  },
  {
   "cell_type": "code",
   "execution_count": 5,
   "metadata": {
    "collapsed": false,
    "deletable": true,
    "editable": true,
    "slideshow": {
     "slide_type": "-"
    }
   },
   "outputs": [],
   "source": [
    "df[\"BN_CANCEL_DT\"] = pd.to_datetime(df[\"BN_CANCEL_DT\"], errors=\"coerce\", format=\"%d/%m/%Y\")"
   ]
  },
  {
   "cell_type": "code",
   "execution_count": 6,
   "metadata": {
    "collapsed": true,
    "deletable": true,
    "editable": true
   },
   "outputs": [],
   "source": [
    "deaded = df[\"BN_CANCEL_DT\"]\n",
    "start = df[\"BN_REG_DT\"]\n",
    "status = df[\"BN_STATUS\"]\n",
    "name = df[\"BN_NAME\"]"
   ]
  },
  {
   "cell_type": "code",
   "execution_count": 7,
   "metadata": {
    "collapsed": false,
    "deletable": true,
    "editable": true,
    "slideshow": {
     "slide_type": "-"
    }
   },
   "outputs": [
    {
     "data": {
      "text/html": [
       "<div>\n",
       "<table border=\"1\" class=\"dataframe\">\n",
       "  <thead>\n",
       "    <tr style=\"text-align: right;\">\n",
       "      <th></th>\n",
       "      <th>BN_NAME</th>\n",
       "      <th>BN_STATUS</th>\n",
       "      <th>BN_REG_DT</th>\n",
       "      <th>BN_CANCEL_DT</th>\n",
       "      <th>BN_RENEW_DT</th>\n",
       "      <th>BN_STATE_OF_REG</th>\n",
       "    </tr>\n",
       "  </thead>\n",
       "  <tbody>\n",
       "    <tr>\n",
       "      <th>0</th>\n",
       "      <td>ARTEMIS FILMS</td>\n",
       "      <td>Deregistered</td>\n",
       "      <td>1968-07-31</td>\n",
       "      <td>2016-12-31</td>\n",
       "      <td>2016-07-31</td>\n",
       "      <td>NSW</td>\n",
       "    </tr>\n",
       "    <tr>\n",
       "      <th>1</th>\n",
       "      <td>IL VICOLO RESTAURANT</td>\n",
       "      <td>Deregistered</td>\n",
       "      <td>1974-05-23</td>\n",
       "      <td>2016-12-29</td>\n",
       "      <td>2016-05-22</td>\n",
       "      <td>NSW</td>\n",
       "    </tr>\n",
       "    <tr>\n",
       "      <th>2</th>\n",
       "      <td>WINNEBAGO INDUSTRIES</td>\n",
       "      <td>Deregistered</td>\n",
       "      <td>1978-03-29</td>\n",
       "      <td>2016-07-05</td>\n",
       "      <td>2017-03-28</td>\n",
       "      <td>NSW</td>\n",
       "    </tr>\n",
       "    <tr>\n",
       "      <th>3</th>\n",
       "      <td>SUTTON STREET STORE</td>\n",
       "      <td>Deregistered</td>\n",
       "      <td>1978-08-14</td>\n",
       "      <td>2016-07-23</td>\n",
       "      <td>2017-08-13</td>\n",
       "      <td>NSW</td>\n",
       "    </tr>\n",
       "    <tr>\n",
       "      <th>4</th>\n",
       "      <td>THE BATHROOM SHOP</td>\n",
       "      <td>Deregistered</td>\n",
       "      <td>1979-05-16</td>\n",
       "      <td>2016-06-23</td>\n",
       "      <td>2015-05-15</td>\n",
       "      <td>NSW</td>\n",
       "    </tr>\n",
       "  </tbody>\n",
       "</table>\n",
       "</div>"
      ],
      "text/plain": [
       "                BN_NAME     BN_STATUS  BN_REG_DT BN_CANCEL_DT BN_RENEW_DT  \\\n",
       "0         ARTEMIS FILMS  Deregistered 1968-07-31   2016-12-31  2016-07-31   \n",
       "1  IL VICOLO RESTAURANT  Deregistered 1974-05-23   2016-12-29  2016-05-22   \n",
       "2  WINNEBAGO INDUSTRIES  Deregistered 1978-03-29   2016-07-05  2017-03-28   \n",
       "3   SUTTON STREET STORE  Deregistered 1978-08-14   2016-07-23  2017-08-13   \n",
       "4     THE BATHROOM SHOP  Deregistered 1979-05-16   2016-06-23  2015-05-15   \n",
       "\n",
       "  BN_STATE_OF_REG  \n",
       "0             NSW  \n",
       "1             NSW  \n",
       "2             NSW  \n",
       "3             NSW  \n",
       "4             NSW  "
      ]
     },
     "execution_count": 7,
     "metadata": {},
     "output_type": "execute_result"
    }
   ],
   "source": [
    "df.head()"
   ]
  },
  {
   "cell_type": "code",
   "execution_count": 8,
   "metadata": {
    "collapsed": false,
    "deletable": true,
    "editable": true
   },
   "outputs": [
    {
     "data": {
      "text/plain": [
       "0                       ARTEMIS FILMS\n",
       "1                IL VICOLO RESTAURANT\n",
       "2                WINNEBAGO INDUSTRIES\n",
       "3                 SUTTON STREET STORE\n",
       "4                   THE BATHROOM SHOP\n",
       "5                 THE PIG AND WHISTLE\n",
       "6               MANSOURS OF WARRAWONG\n",
       "7                   NELSON BAY MARINE\n",
       "8                 MAROUBRA BAY GARAGE\n",
       "9          CAMPBELLTOWN AUTO WRECKERS\n",
       "10              WILDERNESS SURFBOARDS\n",
       "11                   A P I LOCKSMITHS\n",
       "12              BLUE WIRE ELECTRONICS\n",
       "13              GRAFTON SQUASH CENTRE\n",
       "14                 ELDERS REAL ESTATE\n",
       "15                      ACE METALWORK\n",
       "16    DESIGN CARPETS (PORT MACQUARIE)\n",
       "17                   RAINBOW FASHIONS\n",
       "18                CREAGH O'BRIEN & CO\n",
       "19                 TOLMIE PASTORAL CO\n",
       "Name: BN_NAME, dtype: object"
      ]
     },
     "execution_count": 8,
     "metadata": {},
     "output_type": "execute_result"
    }
   ],
   "source": [
    "name.head(20)"
   ]
  },
  {
   "cell_type": "code",
   "execution_count": 9,
   "metadata": {
    "collapsed": false,
    "deletable": true,
    "editable": true
   },
   "outputs": [
    {
     "data": {
      "text/plain": [
       "<matplotlib.axes._subplots.AxesSubplot at 0x7fe4a0fc81d0>"
      ]
     },
     "execution_count": 9,
     "metadata": {},
     "output_type": "execute_result"
    },
    {
     "data": {
      "image/png": "[encoded data removed]",
      "text/plain": [
       "<matplotlib.figure.Figure at 0x7fe4a0fa8750>"
      ]
     },
     "metadata": {},
     "output_type": "display_data"
    }
   ],
   "source": [
    "status.value_counts().plot(kind=\"bar\")"
   ]
  },
  {
   "cell_type": "code",
   "execution_count": 10,
   "metadata": {
    "collapsed": false,
    "deletable": true,
    "editable": true
   },
   "outputs": [
    {
     "data": {
      "text/plain": [
       "<matplotlib.text.Text at 0x7fe4a32b9fd0>"
      ]
     },
     "execution_count": 10,
     "metadata": {},
     "output_type": "execute_result"
    },
    {
     "data": {
      "image/png": "[encoded data removed]",
      "text/plain": [
       "<matplotlib.figure.Figure at 0x7fe4a3b7e750>"
      ]
     },
     "metadata": {},
     "output_type": "display_data"
    }
   ],
   "source": [
    "regy = start[start > \"1990\"].groupby(start.dt.year).count().plot(kind=\"bar\")\n",
    "regy.set_xlabel(\"Year\")\n",
    "regy.set_ylabel(\"New Businesses\")"
   ]
  },
  {
   "cell_type": "code",
   "execution_count": 11,
   "metadata": {
    "collapsed": false,
    "deletable": true,
    "editable": true
   },
   "outputs": [
    {
     "data": {
      "text/plain": [
       "<matplotlib.text.Text at 0x7fe4a27dbe50>"
      ]
     },
     "execution_count": 11,
     "metadata": {},
     "output_type": "execute_result"
    },
    {
     "data": {
      "image/png": "[encoded data removed]",
      "text/plain": [
       "<matplotlib.figure.Figure at 0x7fe4a283c0d0>"
      ]
     },
     "metadata": {},
     "output_type": "display_data"
    }
   ],
   "source": [
    "regm = start[start > \"1788\"].groupby(start.dt.month).count().plot(\"bar\")\n",
    "regm.set_xlabel(\"Month\")\n",
    "regm.set_ylabel(\"New Businesses\")"
   ]
  },
  {
   "cell_type": "code",
   "execution_count": 12,
   "metadata": {
    "collapsed": false,
    "deletable": true,
    "editable": true
   },
   "outputs": [
    {
     "data": {
      "text/plain": [
       "<matplotlib.text.Text at 0x7fe4a3b55490>"
      ]
     },
     "execution_count": 12,
     "metadata": {},
     "output_type": "execute_result"
    },
    {
     "data": {
      "image/png": "[encoded data removed]",
      "text/plain": [
       "<matplotlib.figure.Figure at 0x7fe4a26df650>"
      ]
     },
     "metadata": {},
     "output_type": "display_data"
    }
   ],
   "source": [
    "ded = deaded.hist(bins=24)\n",
    "ded.set_xlabel(\"End Date\")\n",
    "ded.set_ylabel(\"Businesses Terminated\")\n",
    "dead = deaded.hist(bins=2, alpha=0.2)\n",
    "dead.set_xlabel(\"End Date\", fontsize=20)\n",
    "dead.set_ylabel(\"Businesses Terminated\", fontsize=20)"
   ]
  },
  {
   "cell_type": "code",
   "execution_count": 13,
   "metadata": {
    "collapsed": false,
    "deletable": true,
    "editable": true
   },
   "outputs": [],
   "source": [
    "def rounding(x, base):\n",
    "    return int(base * round(float(x)/base))"
   ]
  },
  {
   "cell_type": "code",
   "execution_count": 14,
   "metadata": {
    "collapsed": false,
    "deletable": true,
    "editable": true,
    "scrolled": true
   },
   "outputs": [
    {
     "data": {
      "text/plain": [
       "<matplotlib.axes._subplots.AxesSubplot at 0x7fe4a2602d90>"
      ]
     },
     "execution_count": 14,
     "metadata": {},
     "output_type": "execute_result"
    },
    {
     "data": {
      "image/png": "[encoded data removed]",
      "text/plain": [
       "<matplotlib.figure.Figure at 0x7fe4a0fa8b50>"
      ]
     },
     "metadata": {},
     "output_type": "display_data"
    }
   ],
   "source": [
    "lifespan = deaded[status == \"Deregistered\"] - start[status == \"Deregistered\"]\n",
    "test = lifespan.astype('timedelta64[D]')\n",
    "test = test.divide(365).round(0)\n",
    "test.hist(bins=30, range=(0, 30))"
   ]
  },
  {
   "cell_type": "code",
   "execution_count": 15,
   "metadata": {
    "collapsed": false,
    "deletable": true,
    "editable": true
   },
   "outputs": [
    {
     "data": {
      "text/plain": [
       "1145694"
      ]
     },
     "execution_count": 15,
     "metadata": {},
     "output_type": "execute_result"
    }
   ],
   "source": [
    "import itertools\n",
    "namelist = name.tolist()\n",
    "wordlist = []\n",
    "for x in namelist:\n",
    "    y = x.split()\n",
    "    wordlist.append(y)\n",
    "words = list(itertools.chain.from_iterable(wordlist))\n",
    "len(words)"
   ]
  },
  {
   "cell_type": "code",
   "execution_count": 16,
   "metadata": {
    "collapsed": false,
    "deletable": true,
    "editable": true
   },
   "outputs": [
    {
     "data": {
      "text/plain": [
       "[('&', 36568),\n",
       " ('SERVICES', 21599),\n",
       " ('AND', 14028),\n",
       " ('THE', 13167),\n",
       " ('CENTRE', 7575),\n",
       " ('SERVICE', 6827),\n",
       " ('AUSTRALIA', 6665),\n",
       " ('SOLUTIONS', 5910),\n",
       " ('CLEANING', 5219),\n",
       " ('DESIGN', 5162),\n",
       " ('SYDNEY', 4882),\n",
       " ('ELECTRICAL', 4523),\n",
       " ('-', 4281),\n",
       " ('OF', 3988),\n",
       " ('MAINTENANCE', 3916),\n",
       " ('A', 3911),\n",
       " ('CO', 3868),\n",
       " ('PLUMBING', 3614),\n",
       " ('HAIR', 3495),\n",
       " ('PROPERTY', 3426)]"
      ]
     },
     "execution_count": 16,
     "metadata": {},
     "output_type": "execute_result"
    }
   ],
   "source": [
    "from collections import Counter\n",
    "c = Counter(words)\n",
    "c.most_common(20)"
   ]
  },
  {
   "cell_type": "code",
   "execution_count": null,
   "metadata": {
    "collapsed": true,
    "deletable": true,
    "editable": true
   },
   "outputs": [],
   "source": []
  }
 ],
 "metadata": {
  "celltoolbar": "Slideshow",
  "kernelspec": {
   "display_name": "Python 2",
   "language": "python",
   "name": "python2"
  },
  "language_info": {
   "codemirror_mode": {
    "name": "ipython",
    "version": 2
   },
   "file_extension": ".py",
   "mimetype": "text/x-python",
   "name": "python",
   "nbconvert_exporter": "python",
   "pygments_lexer": "ipython2",
   "version": "2.7.12"
  }
 },
 "nbformat": 4,
 "nbformat_minor": 2
}
