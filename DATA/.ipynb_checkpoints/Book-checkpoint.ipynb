{
 "cells": [
  {
   "cell_type": "code",
   "execution_count": null,
   "metadata": {
    "collapsed": true,
    "deletable": true,
    "editable": true,
    "slideshow": {
     "slide_type": "-"
    }
   },
   "outputs": [],
   "source": [
    "import matplotlib\n",
    "import matplotlib.pyplot as plt\n",
    "import pandas as pd\n",
    "import os\n",
    "import itertools"
   ]
  },
  {
   "cell_type": "code",
   "execution_count": null,
   "metadata": {
    "collapsed": true,
    "deletable": true,
    "editable": true,
    "slideshow": {
     "slide_type": "-"
    }
   },
   "outputs": [],
   "source": [
    "%matplotlib inline\n",
    "plt.rcParams['figure.figsize'] = (10, 5)"
   ]
  },
  {
   "cell_type": "code",
   "execution_count": null,
   "metadata": {
    "collapsed": true,
    "deletable": true,
    "editable": true,
    "slideshow": {
     "slide_type": "-"
    }
   },
   "outputs": [],
   "source": [
    "saved_style_state = matplotlib.rcParams.copy()"
   ]
  },
  {
   "cell_type": "code",
   "execution_count": null,
   "metadata": {
    "collapsed": false,
    "deletable": true,
    "editable": true,
    "slideshow": {
     "slide_type": "-"
    }
   },
   "outputs": [],
   "source": [
    "dtypes = {\"BN_REG_DT\":\"str\", \"BN_CANCEL_DT\":\"str\"}\n",
    "parse_dates = [\"BN_REG_DT\", \"BN_RENEW_DT\"]\n",
    "dateparse = lambda x: pd.datetime.strptime(x, \"%d/%m/%Y\")\n",
    "df = pd.read_csv(\"Book1.csv\", dtype=dtypes, parse_dates=parse_dates, date_parser=dateparse)"
   ]
  },
  {
   "cell_type": "code",
   "execution_count": null,
   "metadata": {
    "collapsed": false,
    "deletable": true,
    "editable": true,
    "slideshow": {
     "slide_type": "-"
    }
   },
   "outputs": [],
   "source": [
    "df[\"BN_CANCEL_DT\"] = pd.to_datetime(df[\"BN_CANCEL_DT\"], errors=\"ignore\", format=\"%d/%m/%Y\")"
   ]
  },
  {
   "cell_type": "code",
   "execution_count": null,
   "metadata": {
    "collapsed": false
   },
   "outputs": [],
   "source": [
    "df[\"BN_CANCEL_DT\"] = df[\"BN_CANCEL_DT\"].fillna(pd.to_datetime(pd.datetime.now().date(), format=\"%Y-%m-%d\"))"
   ]
  },
  {
   "cell_type": "code",
   "execution_count": null,
   "metadata": {
    "collapsed": false,
    "deletable": true,
    "editable": true,
    "slideshow": {
     "slide_type": "-"
    }
   },
   "outputs": [],
   "source": [
    "df.head()"
   ]
  },
  {
   "cell_type": "code",
   "execution_count": null,
   "metadata": {
    "collapsed": false,
    "deletable": true,
    "editable": true
   },
   "outputs": [],
   "source": [
    "deaded = df[\"BN_CANCEL_DT\"]\n",
    "start = df[\"BN_REG_DT\"]\n",
    "status = df[\"BN_STATUS\"]\n",
    "name = df[\"BN_NAME\"]"
   ]
  },
  {
   "cell_type": "code",
   "execution_count": null,
   "metadata": {
    "collapsed": false,
    "deletable": true,
    "editable": true
   },
   "outputs": [],
   "source": [
    "name.head(20)"
   ]
  },
  {
   "cell_type": "code",
   "execution_count": null,
   "metadata": {
    "collapsed": false,
    "deletable": true,
    "editable": true
   },
   "outputs": [],
   "source": [
    "stat = status.value_counts().plot(kind=\"bar\")\n",
    "stat.set_xlabel(\"State of Business\", fontsize=18)\n",
    "stat.set_ylabel(\"Count\", fontsize=18)\n",
    "stat.set_title(\"Operating Businesses\", fontsize=24)"
   ]
  },
  {
   "cell_type": "code",
   "execution_count": null,
   "metadata": {
    "collapsed": false,
    "deletable": true,
    "editable": true
   },
   "outputs": [],
   "source": [
    "regy = start[start > \"1990\"].groupby(start.dt.year).count().plot(kind=\"bar\")\n",
    "regy.set_xlabel(\"Year\", fontsize=18)\n",
    "regy.set_ylabel(\"New Businesses\", fontsize=18)\n",
    "regy.set_title(\"Registrations by Year\", fontsize=24)"
   ]
  },
  {
   "cell_type": "code",
   "execution_count": null,
   "metadata": {
    "collapsed": false
   },
   "outputs": [],
   "source": [
    "regy = start[start > \"1990\"].groupby(start.dt.year).count().plot()\n",
    "regy.set_xlabel(\"Year\", fontsize=18)\n",
    "regy.set_ylabel(\"New Businesses\", fontsize=18)\n",
    "regy.set_title(\"Registrations by Year\", fontsize=24)"
   ]
  },
  {
   "cell_type": "code",
   "execution_count": null,
   "metadata": {
    "collapsed": false,
    "deletable": true,
    "editable": true
   },
   "outputs": [],
   "source": [
    "regm = start[start > \"1788\"].groupby(start.dt.month).count().plot(\"bar\")\n",
    "regm.set_xlabel(\"Month\", fontsize=18)\n",
    "regm.set_ylabel(\"New Businesses\", fontsize=18)\n",
    "regm.set_title(\"Registrations by Month\", fontsize=24)"
   ]
  },
  {
   "cell_type": "code",
   "execution_count": null,
   "metadata": {
    "collapsed": false,
    "deletable": true,
    "editable": true
   },
   "outputs": [],
   "source": [
    "deaded[status==\"Deregistered\"].hist(bins=24)\n",
    "ded = deaded[status==\"Deregistered\"].hist(bins=2, alpha=0.2)\n",
    "ded.set_xlabel(\"End Date\", fontsize=18)\n",
    "ded.set_ylabel(\"Businesses Terminated\", fontsize=18)\n",
    "ded.set_title(\"End Dates\", fontsize=24)"
   ]
  },
  {
   "cell_type": "code",
   "execution_count": null,
   "metadata": {
    "collapsed": false,
    "deletable": true,
    "editable": true,
    "scrolled": true
   },
   "outputs": [],
   "source": [
    "lives = deaded[status == \"Deregistered\"] - start[status == \"Deregistered\"]\n",
    "lifeday = lives.astype('timedelta64[D]')\n",
    "lifemonth = lifeday.divide(365).round(0)\n",
    "span = lifemonth.hist(bins=30, range=(0, 30))\n",
    "span.set_xlabel(\"Years\", fontsize=18)\n",
    "span.set_ylabel(\"Businesses\", fontsize=18)\n",
    "span.set_title(\"Lifespan\", fontsize=24)"
   ]
  },
  {
   "cell_type": "code",
   "execution_count": null,
   "metadata": {
    "collapsed": false,
    "deletable": true,
    "editable": true
   },
   "outputs": [],
   "source": [
    "strings = name.tolist()\n",
    "wordlist = []\n",
    "for x in strings:\n",
    "    y = x.split()\n",
    "    wordlist.append(y)\n",
    "words = list(itertools.chain.from_iterable(wordlist))"
   ]
  },
  {
   "cell_type": "code",
   "execution_count": null,
   "metadata": {
    "collapsed": false,
    "deletable": true,
    "editable": true
   },
   "outputs": [],
   "source": [
    "from collections import Counter\n",
    "c = Counter(words)\n",
    "comm = c.most_common(20)"
   ]
  },
  {
   "cell_type": "code",
   "execution_count": null,
   "metadata": {
    "collapsed": false,
    "deletable": true,
    "editable": true
   },
   "outputs": [],
   "source": [
    "commons = pd.DataFrame.from_records(comm)\n",
    "commons"
   ]
  },
  {
   "cell_type": "code",
   "execution_count": null,
   "metadata": {
    "collapsed": false
   },
   "outputs": [],
   "source": [
    "comms = commons.set_index(0).plot(kind=\"bar\")\n",
    "comms.set_xlabel(\"Top 20 Words\", fontsize=18)\n",
    "comms.set_ylabel(\"Occurences\", fontsize=18)\n",
    "comms.set_title(\"Common Words\", fontsize=24)"
   ]
  },
  {
   "cell_type": "code",
   "execution_count": null,
   "metadata": {
    "collapsed": false,
    "scrolled": true
   },
   "outputs": [],
   "source": [
    "stringy = name[start<\"2000\"].tolist()\n",
    "wordylist = []\n",
    "for x in stringy:\n",
    "    y = x.split()\n",
    "    wordylist.append(y)\n",
    "wordy = list(itertools.chain.from_iterable(wordylist))\n",
    "cc = Counter(wordy)\n",
    "comm = cc.most_common(20)\n",
    "commons = pd.DataFrame.from_records(comm)\n",
    "comms = commons.set_index(0).plot(kind=\"bar\")\n",
    "comms.set_xlabel(\"Top 20 Words\", fontsize=18)\n",
    "comms.set_ylabel(\"Occurences\", fontsize=18)\n",
    "comms.set_title(\"Common Words before 2000\", fontsize=24)"
   ]
  },
  {
   "cell_type": "code",
   "execution_count": null,
   "metadata": {
    "collapsed": false
   },
   "outputs": [],
   "source": [
    "stringy = name.tolist()\n",
    "countlist = []\n",
    "for x in stringy:\n",
    "    y = x.count(\" \") + 1\n",
    "    countlist.append(int(y))\n",
    "average = sum(countlist)/float(len(countlist))\n",
    "average"
   ]
  },
  {
   "cell_type": "code",
   "execution_count": null,
   "metadata": {
    "collapsed": false
   },
   "outputs": [],
   "source": [
    "stringy = name.tolist()\n",
    "letterlist = []\n",
    "for x in stringy:\n",
    "    y = x[:1].lower()\n",
    "    letterlist.append(y)\n",
    "lists = Counter(letterlist)\n",
    "lists.most_common(10)"
   ]
  },
  {
   "cell_type": "code",
   "execution_count": null,
   "metadata": {
    "collapsed": false
   },
   "outputs": [],
   "source": [
    "def alphabets(lettered):\n",
    "    ddf = df.loc[name.str.startswith(lettered, na=False)]\n",
    "    lives = ddf[\"BN_CANCEL_DT\"] - ddf[\"BN_REG_DT\"]\n",
    "    lifeday = lives.astype('timedelta64[D]')\n",
    "    lifemonth = lifeday.divide(365).round(0)\n",
    "    stringy = lifemonth.tolist()\n",
    "    average = sum(stringy)/len(stringy)\n",
    "    return average"
   ]
  },
  {
   "cell_type": "code",
   "execution_count": null,
   "metadata": {
    "collapsed": false
   },
   "outputs": [],
   "source": [
    "from string import ascii_uppercase\n",
    "alist = []\n",
    "for x in ascii_uppercase:\n",
    "    alist.append((x, alphabets(x)))\n",
    "adf = pd.DataFrame.from_records(alist)\n",
    "adf = adf.set_index(0).plot(kind=\"bar\")\n",
    "adf.set_xlabel(\"Letter\", fontsize=18)\n",
    "adf.set_ylabel(\"Years\", fontsize=18)\n",
    "adf.set_title(\"Average lifespan based on first character\", fontsize=24)"
   ]
  }
 ],
 "metadata": {
  "celltoolbar": "Slideshow",
  "kernelspec": {
   "display_name": "Python 2",
   "language": "python",
   "name": "python2"
  },
  "language_info": {
   "codemirror_mode": {
    "name": "ipython",
    "version": 2
   },
   "file_extension": ".py",
   "mimetype": "text/x-python",
   "name": "python",
   "nbconvert_exporter": "python",
   "pygments_lexer": "ipython2",
   "version": "2.7.12"
  }
 },
 "nbformat": 4,
 "nbformat_minor": 2
}
