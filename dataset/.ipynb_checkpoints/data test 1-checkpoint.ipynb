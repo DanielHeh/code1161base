{
 "cells": [
  {
   "cell_type": "code",
   "execution_count": 115,
   "metadata": {
    "collapsed": false,
    "deletable": true,
    "editable": true
   },
   "outputs": [],
   "source": [
    "import matplotlib\n",
    "import matplotlib.pyplot as plt\n",
    "import numpy as np\n",
    "import pandas as pd\n",
    "import plotly.plotly as py\n",
    "import scipy as sp\n",
    "import os "
   ]
  },
  {
   "cell_type": "code",
   "execution_count": 116,
   "metadata": {
    "collapsed": false
   },
   "outputs": [],
   "source": [
    "%matplotlib inline "
   ]
  },
  {
   "cell_type": "code",
   "execution_count": 117,
   "metadata": {
    "collapsed": true
   },
   "outputs": [],
   "source": [
    "import plotly \n",
    "plotly.tools.set_credentials_file(username='flim', api_key='24134432')"
   ]
  },
  {
   "cell_type": "code",
   "execution_count": 118,
   "metadata": {
    "collapsed": false,
    "deletable": true,
    "editable": true
   },
   "outputs": [],
   "source": [
    "%matplotlib inline\n",
    "plt.rcParams['figure.figsize'] = (20,10)"
   ]
  },
  {
   "cell_type": "code",
   "execution_count": 119,
   "metadata": {
    "collapsed": false,
    "deletable": true,
    "editable": true,
    "scrolled": true
   },
   "outputs": [
    {
     "name": "stdout",
     "output_type": "stream",
     "text": [
      "done\n"
     ]
    },
    {
     "data": {
      "text/html": [
       "<div>\n",
       "<style>\n",
       "    .dataframe thead tr:only-child th {\n",
       "        text-align: right;\n",
       "    }\n",
       "\n",
       "    .dataframe thead th {\n",
       "        text-align: left;\n",
       "    }\n",
       "\n",
       "    .dataframe tbody tr th {\n",
       "        vertical-align: top;\n",
       "    }\n",
       "</style>\n",
       "<table border=\"1\" class=\"dataframe\">\n",
       "  <thead>\n",
       "    <tr style=\"text-align: right;\">\n",
       "      <th></th>\n",
       "      <th>id</th>\n",
       "      <th>hip</th>\n",
       "      <th>hd</th>\n",
       "      <th>hr</th>\n",
       "      <th>gl</th>\n",
       "      <th>bf</th>\n",
       "      <th>proper</th>\n",
       "      <th>ra</th>\n",
       "      <th>dec</th>\n",
       "      <th>dist</th>\n",
       "      <th>...</th>\n",
       "      <th>bayer</th>\n",
       "      <th>flam</th>\n",
       "      <th>con</th>\n",
       "      <th>comp</th>\n",
       "      <th>comp_primary</th>\n",
       "      <th>base</th>\n",
       "      <th>lum</th>\n",
       "      <th>var</th>\n",
       "      <th>var_min</th>\n",
       "      <th>var_max</th>\n",
       "    </tr>\n",
       "  </thead>\n",
       "  <tbody>\n",
       "    <tr>\n",
       "      <th>0</th>\n",
       "      <td>0</td>\n",
       "      <td>NaN</td>\n",
       "      <td>NaN</td>\n",
       "      <td>NaN</td>\n",
       "      <td>NaN</td>\n",
       "      <td>NaN</td>\n",
       "      <td>Sol</td>\n",
       "      <td>0.000000</td>\n",
       "      <td>0.000000</td>\n",
       "      <td>0.0000</td>\n",
       "      <td>...</td>\n",
       "      <td>NaN</td>\n",
       "      <td>NaN</td>\n",
       "      <td>NaN</td>\n",
       "      <td>1</td>\n",
       "      <td>0</td>\n",
       "      <td>NaN</td>\n",
       "      <td>1.000000</td>\n",
       "      <td>NaN</td>\n",
       "      <td>NaN</td>\n",
       "      <td>NaN</td>\n",
       "    </tr>\n",
       "    <tr>\n",
       "      <th>1</th>\n",
       "      <td>1</td>\n",
       "      <td>1.0</td>\n",
       "      <td>224700.0</td>\n",
       "      <td>NaN</td>\n",
       "      <td>NaN</td>\n",
       "      <td>NaN</td>\n",
       "      <td>NaN</td>\n",
       "      <td>0.000060</td>\n",
       "      <td>1.089009</td>\n",
       "      <td>219.7802</td>\n",
       "      <td>...</td>\n",
       "      <td>NaN</td>\n",
       "      <td>NaN</td>\n",
       "      <td>Psc</td>\n",
       "      <td>1</td>\n",
       "      <td>1</td>\n",
       "      <td>NaN</td>\n",
       "      <td>9.638290</td>\n",
       "      <td>NaN</td>\n",
       "      <td>NaN</td>\n",
       "      <td>NaN</td>\n",
       "    </tr>\n",
       "    <tr>\n",
       "      <th>2</th>\n",
       "      <td>2</td>\n",
       "      <td>2.0</td>\n",
       "      <td>224690.0</td>\n",
       "      <td>NaN</td>\n",
       "      <td>NaN</td>\n",
       "      <td>NaN</td>\n",
       "      <td>NaN</td>\n",
       "      <td>0.000283</td>\n",
       "      <td>-19.498840</td>\n",
       "      <td>47.9616</td>\n",
       "      <td>...</td>\n",
       "      <td>NaN</td>\n",
       "      <td>NaN</td>\n",
       "      <td>Cet</td>\n",
       "      <td>1</td>\n",
       "      <td>2</td>\n",
       "      <td>NaN</td>\n",
       "      <td>0.392283</td>\n",
       "      <td>NaN</td>\n",
       "      <td>NaN</td>\n",
       "      <td>NaN</td>\n",
       "    </tr>\n",
       "    <tr>\n",
       "      <th>3</th>\n",
       "      <td>3</td>\n",
       "      <td>3.0</td>\n",
       "      <td>224699.0</td>\n",
       "      <td>NaN</td>\n",
       "      <td>NaN</td>\n",
       "      <td>NaN</td>\n",
       "      <td>NaN</td>\n",
       "      <td>0.000335</td>\n",
       "      <td>38.859279</td>\n",
       "      <td>442.4779</td>\n",
       "      <td>...</td>\n",
       "      <td>NaN</td>\n",
       "      <td>NaN</td>\n",
       "      <td>And</td>\n",
       "      <td>1</td>\n",
       "      <td>3</td>\n",
       "      <td>NaN</td>\n",
       "      <td>386.901132</td>\n",
       "      <td>NaN</td>\n",
       "      <td>NaN</td>\n",
       "      <td>NaN</td>\n",
       "    </tr>\n",
       "    <tr>\n",
       "      <th>4</th>\n",
       "      <td>4</td>\n",
       "      <td>4.0</td>\n",
       "      <td>224707.0</td>\n",
       "      <td>NaN</td>\n",
       "      <td>NaN</td>\n",
       "      <td>NaN</td>\n",
       "      <td>NaN</td>\n",
       "      <td>0.000569</td>\n",
       "      <td>-51.893546</td>\n",
       "      <td>134.2282</td>\n",
       "      <td>...</td>\n",
       "      <td>NaN</td>\n",
       "      <td>NaN</td>\n",
       "      <td>Phe</td>\n",
       "      <td>1</td>\n",
       "      <td>4</td>\n",
       "      <td>NaN</td>\n",
       "      <td>9.366989</td>\n",
       "      <td>NaN</td>\n",
       "      <td>NaN</td>\n",
       "      <td>NaN</td>\n",
       "    </tr>\n",
       "  </tbody>\n",
       "</table>\n",
       "<p>5 rows × 37 columns</p>\n",
       "</div>"
      ],
      "text/plain": [
       "   id  hip        hd  hr   gl   bf proper        ra        dec      dist  \\\n",
       "0   0  NaN       NaN NaN  NaN  NaN    Sol  0.000000   0.000000    0.0000   \n",
       "1   1  1.0  224700.0 NaN  NaN  NaN    NaN  0.000060   1.089009  219.7802   \n",
       "2   2  2.0  224690.0 NaN  NaN  NaN    NaN  0.000283 -19.498840   47.9616   \n",
       "3   3  3.0  224699.0 NaN  NaN  NaN    NaN  0.000335  38.859279  442.4779   \n",
       "4   4  4.0  224707.0 NaN  NaN  NaN    NaN  0.000569 -51.893546  134.2282   \n",
       "\n",
       "    ...     bayer  flam  con  comp  comp_primary base         lum  var  \\\n",
       "0   ...       NaN   NaN  NaN     1             0  NaN    1.000000  NaN   \n",
       "1   ...       NaN   NaN  Psc     1             1  NaN    9.638290  NaN   \n",
       "2   ...       NaN   NaN  Cet     1             2  NaN    0.392283  NaN   \n",
       "3   ...       NaN   NaN  And     1             3  NaN  386.901132  NaN   \n",
       "4   ...       NaN   NaN  Phe     1             4  NaN    9.366989  NaN   \n",
       "\n",
       "   var_min  var_max  \n",
       "0      NaN      NaN  \n",
       "1      NaN      NaN  \n",
       "2      NaN      NaN  \n",
       "3      NaN      NaN  \n",
       "4      NaN      NaN  \n",
       "\n",
       "[5 rows x 37 columns]"
      ]
     },
     "execution_count": 119,
     "metadata": {},
     "output_type": "execute_result"
    }
   ],
   "source": [
    "filepath = \"hygdata_v3.csv\"\n",
    "hyg_data = pd.read_csv(filepath)\n",
    "print \"done\"\n",
    "\n",
    "hyg_data.head()"
   ]
  },
  {
   "cell_type": "code",
   "execution_count": 120,
   "metadata": {
    "collapsed": false,
    "deletable": true,
    "editable": true
   },
   "outputs": [
    {
     "data": {
      "text/plain": [
       "Index([u'id', u'hip', u'hd', u'hr', u'gl', u'bf', u'proper', u'ra', u'dec',\n",
       "       u'dist', u'pmra', u'pmdec', u'rv', u'mag', u'absmag', u'spect', u'ci',\n",
       "       u'x', u'y', u'z', u'vx', u'vy', u'vz', u'rarad', u'decrad', u'pmrarad',\n",
       "       u'pmdecrad', u'bayer', u'flam', u'con', u'comp', u'comp_primary',\n",
       "       u'base', u'lum', u'var', u'var_min', u'var_max'],\n",
       "      dtype='object')"
      ]
     },
     "execution_count": 120,
     "metadata": {},
     "output_type": "execute_result"
    }
   ],
   "source": [
    "hyg_data.columns"
   ]
  },
  {
   "cell_type": "code",
   "execution_count": 121,
   "metadata": {
    "collapsed": false,
    "deletable": true,
    "editable": true
   },
   "outputs": [
    {
     "data": {
      "text/plain": [
       "id                        1\n",
       "hip                       1\n",
       "hd                   224700\n",
       "hr                      NaN\n",
       "gl                      NaN\n",
       "bf                      NaN\n",
       "proper                  NaN\n",
       "ra                    6e-05\n",
       "dec                 1.08901\n",
       "dist                 219.78\n",
       "pmra                   -5.2\n",
       "pmdec                 -1.88\n",
       "rv                        0\n",
       "mag                     9.1\n",
       "absmag                 2.39\n",
       "spect                    F5\n",
       "ci                    0.482\n",
       "x                   219.741\n",
       "y                  0.003449\n",
       "z                   4.17706\n",
       "vx                    4e-08\n",
       "vy                -5.54e-06\n",
       "vz                   -2e-06\n",
       "rarad           1.56934e-05\n",
       "decrad            0.0190068\n",
       "pmrarad        -2.52103e-08\n",
       "pmdecrad        -9.1145e-09\n",
       "bayer                   NaN\n",
       "flam                    NaN\n",
       "con                     Psc\n",
       "comp                      1\n",
       "comp_primary              1\n",
       "base                    NaN\n",
       "lum                 9.63829\n",
       "var                     NaN\n",
       "var_min                 NaN\n",
       "var_max                 NaN\n",
       "Name: 1, dtype: object"
      ]
     },
     "execution_count": 121,
     "metadata": {},
     "output_type": "execute_result"
    }
   ],
   "source": [
    "row_one = hyg_data.iloc[1]\n",
    "row_one"
   ]
  },
  {
   "cell_type": "code",
   "execution_count": 122,
   "metadata": {
    "collapsed": false,
    "deletable": true,
    "editable": true
   },
   "outputs": [
    {
     "data": {
      "text/plain": [
       "nan"
      ]
     },
     "execution_count": 122,
     "metadata": {},
     "output_type": "execute_result"
    }
   ],
   "source": [
    "row_one[\"var_max\"]"
   ]
  },
  {
   "cell_type": "code",
   "execution_count": 123,
   "metadata": {
    "collapsed": false,
    "deletable": true,
    "editable": true
   },
   "outputs": [
    {
     "data": {
      "text/plain": [
       "0            NaN\n",
       "1            NaN\n",
       "2            NaN\n",
       "3            NaN\n",
       "4            NaN\n",
       "5            NaN\n",
       "6         12.162\n",
       "7            NaN\n",
       "8          7.648\n",
       "9            NaN\n",
       "10           NaN\n",
       "11           NaN\n",
       "12           NaN\n",
       "13           NaN\n",
       "14           NaN\n",
       "15           NaN\n",
       "16           NaN\n",
       "17        11.543\n",
       "18        10.948\n",
       "19           NaN\n",
       "20           NaN\n",
       "21           NaN\n",
       "22           NaN\n",
       "23           NaN\n",
       "24           NaN\n",
       "25           NaN\n",
       "26           NaN\n",
       "27           NaN\n",
       "28           NaN\n",
       "29           NaN\n",
       "           ...  \n",
       "119584       NaN\n",
       "119585       NaN\n",
       "119586       NaN\n",
       "119587       NaN\n",
       "119588       NaN\n",
       "119589       NaN\n",
       "119590       NaN\n",
       "119591       NaN\n",
       "119592       NaN\n",
       "119593       NaN\n",
       "119594       NaN\n",
       "119595       NaN\n",
       "119596       NaN\n",
       "119597       NaN\n",
       "119598       NaN\n",
       "119599       NaN\n",
       "119600       NaN\n",
       "119601       NaN\n",
       "119602       NaN\n",
       "119603       NaN\n",
       "119604       NaN\n",
       "119605       NaN\n",
       "119606       NaN\n",
       "119607       NaN\n",
       "119608       NaN\n",
       "119609       NaN\n",
       "119610       NaN\n",
       "119611       NaN\n",
       "119612       NaN\n",
       "119613       NaN\n",
       "Name: var_max, Length: 119614, dtype: float64"
      ]
     },
     "execution_count": 123,
     "metadata": {},
     "output_type": "execute_result"
    }
   ],
   "source": [
    "hyg_data[\"var_max\"]"
   ]
  },
  {
   "cell_type": "code",
   "execution_count": 124,
   "metadata": {
    "collapsed": false,
    "deletable": true,
    "editable": true
   },
   "outputs": [
    {
     "data": {
      "text/plain": [
       "<matplotlib.axes._subplots.AxesSubplot at 0x7f26c63fd390>"
      ]
     },
     "execution_count": 124,
     "metadata": {},
     "output_type": "execute_result"
    },
    {
     "data": {
      "image/png": "[encoded data removed]",
      "text/plain": [
       "<matplotlib.figure.Figure at 0x7f270078d510>"
      ]
     },
     "metadata": {},
     "output_type": "display_data"
    }
   ],
   "source": [
    "hyg_data[\"var_max\"].plot()"
   ]
  },
  {
   "cell_type": "code",
   "execution_count": 125,
   "metadata": {
    "collapsed": false,
    "deletable": true,
    "editable": true
   },
   "outputs": [
    {
     "data": {
      "text/plain": [
       "<matplotlib.axes._subplots.AxesSubplot at 0x7f26c630b190>"
      ]
     },
     "execution_count": 125,
     "metadata": {},
     "output_type": "execute_result"
    },
    {
     "data": {
      "image/png": "[encoded data removed]",
      "text/plain": [
       "<matplotlib.figure.Figure at 0x7f26c55339d0>"
      ]
     },
     "metadata": {},
     "output_type": "display_data"
    }
   ],
   "source": [
    "hyg_data[\"var_max\"].hist()"
   ]
  },
  {
   "cell_type": "code",
   "execution_count": 126,
   "metadata": {
    "collapsed": false,
    "deletable": true,
    "editable": true
   },
   "outputs": [
    {
     "data": {
      "text/plain": [
       "<matplotlib.axes._subplots.AxesSubplot at 0x7f26c5d21f90>"
      ]
     },
     "execution_count": 126,
     "metadata": {},
     "output_type": "execute_result"
    },
    {
     "data": {
      "image/png": "[encoded data removed]",
      "text/plain": [
       "<matplotlib.figure.Figure at 0x7f26c5d3bcd0>"
      ]
     },
     "metadata": {},
     "output_type": "display_data"
    }
   ],
   "source": [
    "hyg_data[\"var_max\"][hyg_data[\"var_max\"] < 10].hist()"
   ]
  },
  {
   "cell_type": "code",
   "execution_count": 127,
   "metadata": {
    "collapsed": false,
    "deletable": true,
    "editable": true
   },
   "outputs": [
    {
     "data": {
      "text/plain": [
       "0    0\n",
       "1    1\n",
       "2    2\n",
       "3    3\n",
       "4    4\n",
       "dtype: int64"
      ]
     },
     "execution_count": 127,
     "metadata": {},
     "output_type": "execute_result"
    }
   ],
   "source": [
    "some_numbers = pd.Series(range(10))\n",
    "some_numbers.head()"
   ]
  },
  {
   "cell_type": "code",
   "execution_count": 128,
   "metadata": {
    "collapsed": false,
    "deletable": true,
    "editable": true
   },
   "outputs": [
    {
     "data": {
      "text/plain": [
       "0    0\n",
       "1    1\n",
       "2    2\n",
       "dtype: int64"
      ]
     },
     "execution_count": 128,
     "metadata": {},
     "output_type": "execute_result"
    }
   ],
   "source": [
    "some_numbers[some_numbers < 3]"
   ]
  },
  {
   "cell_type": "code",
   "execution_count": 129,
   "metadata": {
    "collapsed": false,
    "deletable": true,
    "editable": true
   },
   "outputs": [
    {
     "data": {
      "text/plain": [
       "0    0\n",
       "1    1\n",
       "2    2\n",
       "3    3\n",
       "dtype: int64"
      ]
     },
     "execution_count": 129,
     "metadata": {},
     "output_type": "execute_result"
    }
   ],
   "source": [
    "some_numbers[(some_numbers < 4) | (some_numbers > 97)]"
   ]
  },
  {
   "cell_type": "code",
   "execution_count": null,
   "metadata": {
    "collapsed": false,
    "deletable": true,
    "editable": true
   },
   "outputs": [
    {
     "data": {
      "text/plain": [
       "-11.030    71\n",
       "-11.040    59\n",
       "-10.900    58\n",
       "-10.940    58\n",
       "-11.150    58\n",
       "-11.110    56\n",
       "-11.190    56\n",
       "-10.850    56\n",
       "-10.950    55\n",
       "-11.010    54\n",
       "-11.310    54\n",
       "-11.020    53\n",
       "-11.090    52\n",
       "-11.200    52\n",
       "-10.820    52\n",
       "-10.730    52\n",
       "-10.980    51\n",
       "-11.280    51\n",
       "-10.930    50\n",
       "-11.320    50\n",
       "-10.990    50\n",
       "-10.970    50\n",
       "-11.060    49\n",
       "-11.140    48\n",
       "-10.880    48\n",
       "-11.170    48\n",
       "-11.380    47\n",
       "-11.130    47\n",
       "-10.650    47\n",
       "-11.100    47\n",
       "           ..\n",
       " 12.480     1\n",
       " 15.642     1\n",
       " 13.336     1\n",
       " 11.362     1\n",
       "-2.567      1\n",
       " 8.402      1\n",
       "-2.345      1\n",
       " 9.207      1\n",
       "-3.751      1\n",
       "-15.750     1\n",
       " 13.887     1\n",
       " 8.373      1\n",
       " 9.911      1\n",
       " 9.326      1\n",
       " 14.577     1\n",
       " 11.625     1\n",
       "-15.000     1\n",
       "-2.856      1\n",
       "-4.166      1\n",
       " 10.870     1\n",
       " 5.917      1\n",
       " 10.432     1\n",
       "-3.547      1\n",
       " 8.255      1\n",
       " 12.063     1\n",
       "-2.670      1\n",
       "-2.740      1\n",
       " 14.628     1\n",
       " 6.999      1\n",
       " 14.333     1\n",
       "Name: absmag, Length: 13451, dtype: int64"
      ]
     },
     "execution_count": 130,
     "metadata": {},
     "output_type": "execute_result"
    }
   ],
   "source": [
    "hyg_data[\"absmag\"].value_counts()"
   ]
  },
  {
   "cell_type": "code",
   "execution_count": null,
   "metadata": {
    "collapsed": false,
    "deletable": true,
    "editable": true
   },
   "outputs": [],
   "source": [
    "hyg_data[\"absmag\"].value_counts(200).plot(kind=\"bar\")"
   ]
  },
  {
   "cell_type": "code",
   "execution_count": null,
   "metadata": {
    "collapsed": false,
    "deletable": true,
    "editable": true
   },
   "outputs": [],
   "source": [
    "magdata=hyg_data.sample(1000)\n",
    "magdata.mag.plot(kind=\"bar\")"
   ]
  },
  {
   "cell_type": "code",
   "execution_count": null,
   "metadata": {
    "collapsed": false,
    "deletable": true,
    "editable": true
   },
   "outputs": [],
   "source": [
    "display=hyg_data.sample(1000)\n",
    "display.absmag.plot(kind=\"bar\")"
   ]
  },
  {
   "cell_type": "code",
   "execution_count": null,
   "metadata": {
    "collapsed": false,
    "deletable": true,
    "editable": true,
    "scrolled": false
   },
   "outputs": [],
   "source": [
    "sample200=hyg_data.sample(200)\n",
    "sample200.absmag.plot(kind=\"bar\")"
   ]
  },
  {
   "cell_type": "code",
   "execution_count": null,
   "metadata": {
    "collapsed": false,
    "deletable": true,
    "editable": true
   },
   "outputs": [],
   "source": [
    "vismag200=hyg_data.sample(200)\n",
    "vismag200.mag.plot(kind=\"bar\")"
   ]
  },
  {
   "cell_type": "code",
   "execution_count": null,
   "metadata": {
    "collapsed": false,
    "deletable": true,
    "editable": true
   },
   "outputs": [],
   "source": [
    "print\"M=m-5(log10(d/10))\""
   ]
  },
  {
   "cell_type": "code",
   "execution_count": null,
   "metadata": {
    "collapsed": false,
    "deletable": true,
    "editable": true
   },
   "outputs": [],
   "source": [
    "trialtable = hyg_data[['absmag', 'mag', 'dist']].sample(200)\n",
    "trialtable.head()"
   ]
  },
  {
   "cell_type": "code",
   "execution_count": null,
   "metadata": {
    "collapsed": true,
    "deletable": true,
    "editable": true
   },
   "outputs": [],
   "source": [
    "filepath = \"hygdata_v3.csv\"\n",
    "hyg_data = pd.read_csv(filepath)"
   ]
  },
  {
   "cell_type": "code",
   "execution_count": null,
   "metadata": {
    "collapsed": false,
    "deletable": true,
    "editable": true
   },
   "outputs": [],
   "source": [
    "absmaggroup = hyg_data.groupby('absmag')\n",
    "absmaggroup.size()"
   ]
  },
  {
   "cell_type": "code",
   "execution_count": null,
   "metadata": {
    "collapsed": false,
    "deletable": true,
    "editable": true
   },
   "outputs": [],
   "source": [
    "from plotly.graph_objs import *\n",
    "\n",
    "absmag = hyg_data.sort(columns='absmag',ascending =False).plot(kind='bar',legend=None,title=\"absolute magnitude of stars\").sample(200)\n",
    "absmag.set_xlabel('star id')\n",
    "absmag.set_ylabel('Absolute magnitudes') "
   ]
  },
  {
   "cell_type": "code",
   "execution_count": null,
   "metadata": {
    "collapsed": false,
    "deletable": true,
    "editable": true
   },
   "outputs": [],
   "source": [
    "sortedplot = hyg_data.unstack().plot(kind='bar',stacked=True)"
   ]
  },
  {
   "cell_type": "code",
   "execution_count": null,
   "metadata": {
    "collapsed": false
   },
   "outputs": [],
   "source": []
  },
  {
   "cell_type": "code",
   "execution_count": null,
   "metadata": {
    "collapsed": false
   },
   "outputs": [],
   "source": []
  },
  {
   "cell_type": "code",
   "execution_count": null,
   "metadata": {
    "collapsed": true
   },
   "outputs": [],
   "source": []
  },
  {
   "cell_type": "code",
   "execution_count": null,
   "metadata": {
    "collapsed": true
   },
   "outputs": [],
   "source": []
  },
  {
   "cell_type": "code",
   "execution_count": null,
   "metadata": {
    "collapsed": true
   },
   "outputs": [],
   "source": []
  }
 ],
 "metadata": {
  "kernelspec": {
   "display_name": "Python 2",
   "language": "python",
   "name": "python2"
  },
  "language_info": {
   "codemirror_mode": {
    "name": "ipython",
    "version": 2
   },
   "file_extension": ".py",
   "mimetype": "text/x-python",
   "name": "python",
   "nbconvert_exporter": "python",
   "pygments_lexer": "ipython2",
   "version": "2.7.12"
  }
 },
 "nbformat": 4,
 "nbformat_minor": 2
}
