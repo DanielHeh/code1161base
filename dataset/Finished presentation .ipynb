{
 "cells": [
  {
   "cell_type": "code",
   "execution_count": 8,
   "metadata": {
    "collapsed": true,
    "deletable": true,
    "editable": true
   },
   "outputs": [],
   "source": [
    "import matplotlib\n",
    "import matplotlib.pyplot as plt\n",
    "import numpy as np\n",
    "import pandas as pd\n",
    "import plotly.plotly as py\n",
    "import scipy as sp\n",
    "import os \n",
    "from mpl_toolkits.mplot3d import Axes3D"
   ]
  },
  {
   "cell_type": "code",
   "execution_count": 9,
   "metadata": {
    "collapsed": true,
    "deletable": true,
    "editable": true
   },
   "outputs": [],
   "source": [
    "%matplotlib inline "
   ]
  },
  {
   "cell_type": "code",
   "execution_count": 10,
   "metadata": {
    "collapsed": false,
    "deletable": true,
    "editable": true
   },
   "outputs": [
    {
     "name": "stdout",
     "output_type": "stream",
     "text": [
      "Welcome to my astrophysics dataset presentation\n"
     ]
    }
   ],
   "source": [
    "print\"Welcome to my astrophysics dataset presentation\""
   ]
  },
  {
   "cell_type": "code",
   "execution_count": 11,
   "metadata": {
    "collapsed": false,
    "deletable": true,
    "editable": true
   },
   "outputs": [
    {
     "data": {
      "text/html": [
       "<div>\n",
       "<style>\n",
       "    .dataframe thead tr:only-child th {\n",
       "        text-align: right;\n",
       "    }\n",
       "\n",
       "    .dataframe thead th {\n",
       "        text-align: left;\n",
       "    }\n",
       "\n",
       "    .dataframe tbody tr th {\n",
       "        vertical-align: top;\n",
       "    }\n",
       "</style>\n",
       "<table border=\"1\" class=\"dataframe\">\n",
       "  <thead>\n",
       "    <tr style=\"text-align: right;\">\n",
       "      <th></th>\n",
       "      <th>id</th>\n",
       "      <th>hip</th>\n",
       "      <th>hd</th>\n",
       "      <th>hr</th>\n",
       "      <th>gl</th>\n",
       "      <th>bf</th>\n",
       "      <th>proper</th>\n",
       "      <th>ra</th>\n",
       "      <th>dec</th>\n",
       "      <th>dist</th>\n",
       "      <th>...</th>\n",
       "      <th>bayer</th>\n",
       "      <th>flam</th>\n",
       "      <th>con</th>\n",
       "      <th>comp</th>\n",
       "      <th>comp_primary</th>\n",
       "      <th>base</th>\n",
       "      <th>lum</th>\n",
       "      <th>var</th>\n",
       "      <th>var_min</th>\n",
       "      <th>var_max</th>\n",
       "    </tr>\n",
       "  </thead>\n",
       "  <tbody>\n",
       "    <tr>\n",
       "      <th>0</th>\n",
       "      <td>0</td>\n",
       "      <td>NaN</td>\n",
       "      <td>NaN</td>\n",
       "      <td>NaN</td>\n",
       "      <td>NaN</td>\n",
       "      <td>NaN</td>\n",
       "      <td>Sol</td>\n",
       "      <td>0.00000</td>\n",
       "      <td>0.000000</td>\n",
       "      <td>0.0000</td>\n",
       "      <td>...</td>\n",
       "      <td>NaN</td>\n",
       "      <td>NaN</td>\n",
       "      <td>NaN</td>\n",
       "      <td>1</td>\n",
       "      <td>0</td>\n",
       "      <td>NaN</td>\n",
       "      <td>1.00000</td>\n",
       "      <td>NaN</td>\n",
       "      <td>NaN</td>\n",
       "      <td>NaN</td>\n",
       "    </tr>\n",
       "    <tr>\n",
       "      <th>1</th>\n",
       "      <td>1</td>\n",
       "      <td>1.0</td>\n",
       "      <td>224700.0</td>\n",
       "      <td>NaN</td>\n",
       "      <td>NaN</td>\n",
       "      <td>NaN</td>\n",
       "      <td>NaN</td>\n",
       "      <td>0.00006</td>\n",
       "      <td>1.089009</td>\n",
       "      <td>219.7802</td>\n",
       "      <td>...</td>\n",
       "      <td>NaN</td>\n",
       "      <td>NaN</td>\n",
       "      <td>Psc</td>\n",
       "      <td>1</td>\n",
       "      <td>1</td>\n",
       "      <td>NaN</td>\n",
       "      <td>9.63829</td>\n",
       "      <td>NaN</td>\n",
       "      <td>NaN</td>\n",
       "      <td>NaN</td>\n",
       "    </tr>\n",
       "  </tbody>\n",
       "</table>\n",
       "<p>2 rows × 37 columns</p>\n",
       "</div>"
      ],
      "text/plain": [
       "   id  hip        hd  hr   gl   bf proper       ra       dec      dist  \\\n",
       "0   0  NaN       NaN NaN  NaN  NaN    Sol  0.00000  0.000000    0.0000   \n",
       "1   1  1.0  224700.0 NaN  NaN  NaN    NaN  0.00006  1.089009  219.7802   \n",
       "\n",
       "    ...     bayer  flam  con  comp  comp_primary base      lum  var  var_min  \\\n",
       "0   ...       NaN   NaN  NaN     1             0  NaN  1.00000  NaN      NaN   \n",
       "1   ...       NaN   NaN  Psc     1             1  NaN  9.63829  NaN      NaN   \n",
       "\n",
       "   var_max  \n",
       "0      NaN  \n",
       "1      NaN  \n",
       "\n",
       "[2 rows x 37 columns]"
      ]
     },
     "execution_count": 11,
     "metadata": {},
     "output_type": "execute_result"
    }
   ],
   "source": [
    "filepath = \"hygdata_v3.csv\"\n",
    "hyg_data = pd.read_csv(filepath)\n",
    "\n",
    "hyg_data.head(2)"
   ]
  },
  {
   "cell_type": "code",
   "execution_count": 12,
   "metadata": {
    "collapsed": false,
    "deletable": true,
    "editable": true
   },
   "outputs": [
    {
     "data": {
      "image/png": "[encoded data removed]",
      "text/plain": [
       "<matplotlib.figure.Figure at 0x7f7d06ae4290>"
      ]
     },
     "metadata": {},
     "output_type": "display_data"
    }
   ],
   "source": [
    "fig = plt.figure()\n",
    "ax = fig.add_subplot(111,projection='3d')\n",
    "\n",
    "ax.scatter(list(hyg_data[\"x\"]), list(hyg_data[\"y\"]), list(hyg_data[\"z\"]))\n",
    "plt.show()"
   ]
  },
  {
   "cell_type": "code",
   "execution_count": null,
   "metadata": {
    "collapsed": false,
    "deletable": true,
    "editable": true
   },
   "outputs": [],
   "source": [
    "sample200=hyg_data.sample(2000)\n",
    "sample200.absmag.plot(kind=\"bar\")"
   ]
  },
  {
   "cell_type": "code",
   "execution_count": null,
   "metadata": {
    "collapsed": false,
    "deletable": true,
    "editable": true
   },
   "outputs": [],
   "source": [
    "hyg_data['mag'].hist()\n",
    "plt.suptitle('Visual Magnitude')\n",
    "plt.xlabel('Magnitudes')\n",
    "plt.ylabel('Star Id')\n",
    "#talk about what visual mag is "
   ]
  },
  {
   "cell_type": "code",
   "execution_count": null,
   "metadata": {
    "collapsed": false,
    "deletable": true,
    "editable": true
   },
   "outputs": [],
   "source": [
    "hyg_data['absmag'].hist()\n",
    "plt.suptitle('Absolute Magnitude')\n",
    "plt.xlabel('Magnitudes')\n",
    "plt.ylabel('Star Id')\n",
    "#talk about what absolute mag is"
   ]
  },
  {
   "cell_type": "code",
   "execution_count": null,
   "metadata": {
    "collapsed": false,
    "deletable": true,
    "editable": true
   },
   "outputs": [],
   "source": [
    "hyg_data['absmag'].plot(kind='bar')"
   ]
  },
  {
   "cell_type": "code",
   "execution_count": null,
   "metadata": {
    "collapsed": false,
    "deletable": true,
    "editable": true
   },
   "outputs": [],
   "source": [
    "hyg_data['lum'].plot(kind='bar')"
   ]
  },
  {
   "cell_type": "code",
   "execution_count": 47,
   "metadata": {
    "collapsed": false,
    "deletable": true,
    "editable": true
   },
   "outputs": [
    {
     "data": {
      "text/plain": [
       "<matplotlib.text.Text at 0x7f8418835390>"
      ]
     },
     "execution_count": 47,
     "metadata": {},
     "output_type": "execute_result"
    },
    {
     "data": {
      "image/png": "[encoded data removed]",
      "text/plain": [
       "<matplotlib.figure.Figure at 0x7f8425fda790>"
      ]
     },
     "metadata": {},
     "output_type": "display_data"
    }
   ],
   "source": [
    "hyg_data['absmag'].hist()\n",
    "hyg_data['mag'].hist()\n",
    "plt.suptitle('Absolute Magnitude vs Visual Magnitude')\n",
    "plt.xlabel('Magnitudes')\n",
    "plt.ylabel('Star Id')\n",
    "# talk about what the shift means, ( how shifting to the left means that stars are further than 10parsecs, and the \n",
    "#range of data)"
   ]
  },
  {
   "cell_type": "code",
   "execution_count": 48,
   "metadata": {
    "collapsed": false,
    "deletable": true,
    "editable": true
   },
   "outputs": [
    {
     "data": {
      "text/plain": [
       "<matplotlib.axes._subplots.AxesSubplot at 0x7f841fe20bd0>"
      ]
     },
     "execution_count": 48,
     "metadata": {},
     "output_type": "execute_result"
    },
    {
     "data": {
      "image/png": "[encoded data removed]",
      "text/plain": [
       "<matplotlib.figure.Figure at 0x7f8417e6fed0>"
      ]
     },
     "metadata": {},
     "output_type": "display_data"
    }
   ],
   "source": [
    "dist_plot=hyg_data.sample(2000)\n",
    "dist_plot.dist.plot(kind=\"bar\")\n",
    "# talk about the large difference a chance in a few magnitudes can do (useing the distance difference as example)"
   ]
  },
  {
   "cell_type": "code",
   "execution_count": 49,
   "metadata": {
    "collapsed": false,
    "deletable": true,
    "editable": true
   },
   "outputs": [
    {
     "data": {
      "text/plain": [
       "[<matplotlib.lines.Line2D at 0x7f840c01be50>]"
      ]
     },
     "execution_count": 49,
     "metadata": {},
     "output_type": "execute_result"
    },
    {
     "data": {
      "image/png": "[encoded data removed]",
      "text/plain": [
       "<matplotlib.figure.Figure at 0x7f840aac5210>"
      ]
     },
     "metadata": {},
     "output_type": "display_data"
    }
   ],
   "source": [
    "filepath = \"hygdata_v3_mod.csv\"\n",
    "hyg_data_mod = pd.read_csv(filepath)\n",
    "\n",
    "line = plt.figure\n",
    "x= hyg_data_mod['mag']\n",
    "y= hyg_data_mod['absmag']\n",
    "plt.suptitle('HR diagram')\n",
    "plt.xlabel('Colour index')\n",
    "plt.ylabel('Luminosity')\n",
    "\n",
    "plt.plot(x,y,\"x\")\n",
    "#HR diagram, talk about what the cluster means --> accurate and makes sense\n",
    "#Young Galaxy\n",
    "# chemical composition, hydrogren -> helium burn due to the characteristic of the moves\n",
    "# quite a successful formation of stars\n",
    "# outlier could be false data, or a white drawf(unexplainable)\n",
    "#explain how the gap could be explain by helium flash "
   ]
  },
  {
   "cell_type": "code",
   "execution_count": 50,
   "metadata": {
    "collapsed": false,
    "deletable": true,
    "editable": true
   },
   "outputs": [
    {
     "data": {
      "text/html": [
       "<div>\n",
       "<style>\n",
       "    .dataframe thead tr:only-child th {\n",
       "        text-align: right;\n",
       "    }\n",
       "\n",
       "    .dataframe thead th {\n",
       "        text-align: left;\n",
       "    }\n",
       "\n",
       "    .dataframe tbody tr th {\n",
       "        vertical-align: top;\n",
       "    }\n",
       "</style>\n",
       "<table border=\"1\" class=\"dataframe\">\n",
       "  <thead>\n",
       "    <tr style=\"text-align: right;\">\n",
       "      <th></th>\n",
       "      <th>Element</th>\n",
       "      <th>Sym</th>\n",
       "      <th>Origin of name</th>\n",
       "      <th>Group</th>\n",
       "      <th>Period</th>\n",
       "      <th>Atomic weight</th>\n",
       "      <th>Density</th>\n",
       "      <th>Melt</th>\n",
       "      <th>Boil</th>\n",
       "      <th>Heat</th>\n",
       "      <th>Neg10</th>\n",
       "      <th>Abundance</th>\n",
       "    </tr>\n",
       "  </thead>\n",
       "  <tbody>\n",
       "    <tr>\n",
       "      <th>0</th>\n",
       "      <td>Hydrogen</td>\n",
       "      <td>H</td>\n",
       "      <td>the Greek 'hydro' and 'genes' meaning water-fo...</td>\n",
       "      <td>1.0</td>\n",
       "      <td>1</td>\n",
       "      <td>1.0082 3 4 9</td>\n",
       "      <td>0.000090</td>\n",
       "      <td>14.01</td>\n",
       "      <td>20.28</td>\n",
       "      <td>14.304</td>\n",
       "      <td>2.2</td>\n",
       "      <td>1400</td>\n",
       "    </tr>\n",
       "    <tr>\n",
       "      <th>1</th>\n",
       "      <td>Helium</td>\n",
       "      <td>He</td>\n",
       "      <td>the Greek 'helios' meaning sun</td>\n",
       "      <td>18.0</td>\n",
       "      <td>1</td>\n",
       "      <td>4.002602(2)2 4</td>\n",
       "      <td>0.000179</td>\n",
       "      <td>0.956</td>\n",
       "      <td>4.22</td>\n",
       "      <td>5.193</td>\n",
       "      <td>�</td>\n",
       "      <td>0.008</td>\n",
       "    </tr>\n",
       "    <tr>\n",
       "      <th>2</th>\n",
       "      <td>Lithium</td>\n",
       "      <td>Li</td>\n",
       "      <td>the Greek 'lithos' meaning stone</td>\n",
       "      <td>1.0</td>\n",
       "      <td>2</td>\n",
       "      <td>6.942 3 4 5 9</td>\n",
       "      <td>0.534000</td>\n",
       "      <td>453.69</td>\n",
       "      <td>1560</td>\n",
       "      <td>3.582</td>\n",
       "      <td>0.98</td>\n",
       "      <td>20</td>\n",
       "    </tr>\n",
       "    <tr>\n",
       "      <th>3</th>\n",
       "      <td>Beryllium</td>\n",
       "      <td>Be</td>\n",
       "      <td>the Greek name for beryl, 'beryllo'</td>\n",
       "      <td>2.0</td>\n",
       "      <td>2</td>\n",
       "      <td>9.012182(3)</td>\n",
       "      <td>1.850000</td>\n",
       "      <td>1560</td>\n",
       "      <td>2742</td>\n",
       "      <td>1.825</td>\n",
       "      <td>1.57</td>\n",
       "      <td>2.8</td>\n",
       "    </tr>\n",
       "    <tr>\n",
       "      <th>4</th>\n",
       "      <td>Boron</td>\n",
       "      <td>B</td>\n",
       "      <td>the Arabic 'buraq', which was the name for borax</td>\n",
       "      <td>13.0</td>\n",
       "      <td>2</td>\n",
       "      <td>10.812 3 4 9</td>\n",
       "      <td>2.340000</td>\n",
       "      <td>2349</td>\n",
       "      <td>4200</td>\n",
       "      <td>1.026</td>\n",
       "      <td>2.04</td>\n",
       "      <td>10</td>\n",
       "    </tr>\n",
       "  </tbody>\n",
       "</table>\n",
       "</div>"
      ],
      "text/plain": [
       "     Element Sym                                     Origin of name  Group  \\\n",
       "0   Hydrogen   H  the Greek 'hydro' and 'genes' meaning water-fo...    1.0   \n",
       "1     Helium  He                     the Greek 'helios' meaning sun   18.0   \n",
       "2    Lithium  Li                   the Greek 'lithos' meaning stone    1.0   \n",
       "3  Beryllium  Be                the Greek name for beryl, 'beryllo'    2.0   \n",
       "4      Boron   B   the Arabic 'buraq', which was the name for borax   13.0   \n",
       "\n",
       "   Period   Atomic weight   Density    Melt   Boil    Heat Neg10 Abundance  \n",
       "0       1    1.0082 3 4 9  0.000090   14.01  20.28  14.304   2.2      1400  \n",
       "1       1  4.002602(2)2 4  0.000179   0.956   4.22   5.193     �     0.008  \n",
       "2       2   6.942 3 4 5 9  0.534000  453.69   1560   3.582  0.98        20  \n",
       "3       2     9.012182(3)  1.850000    1560   2742   1.825  1.57       2.8  \n",
       "4       2    10.812 3 4 9  2.340000    2349   4200   1.026  2.04        10  "
      ]
     },
     "execution_count": 50,
     "metadata": {},
     "output_type": "execute_result"
    }
   ],
   "source": [
    "filepath = \"list_of_chemical_elements-1242j (1).csv\"\n",
    "chem_elem = pd.read_csv(filepath)\n",
    "\n",
    "chem_elem.head()\n",
    "#talk more indepth into chemical characteristics"
   ]
  },
  {
   "cell_type": "code",
   "execution_count": 51,
   "metadata": {
    "collapsed": false,
    "deletable": true,
    "editable": true
   },
   "outputs": [
    {
     "data": {
      "text/plain": [
       "<matplotlib.axes._subplots.AxesSubplot at 0x7f8411fb4e90>"
      ]
     },
     "execution_count": 51,
     "metadata": {},
     "output_type": "execute_result"
    },
    {
     "data": {
      "image/png": "[encoded data removed]",
      "text/plain": [
       "<matplotlib.figure.Figure at 0x7f841ffa9450>"
      ]
     },
     "metadata": {},
     "output_type": "display_data"
    }
   ],
   "source": [
    "chemDen=chem_elem.sample(88)\n",
    "chemDen.Density.plot(kind=\"bar\")\n",
    "#talk about how star burnable elements is around the 5 position"
   ]
  },
  {
   "cell_type": "code",
   "execution_count": 52,
   "metadata": {
    "collapsed": false,
    "deletable": true,
    "editable": true
   },
   "outputs": [
    {
     "data": {
      "text/plain": [
       "Element                                                    Hydrogen\n",
       "Sym                                                               H\n",
       "Origin of name    the Greek 'hydro' and 'genes' meaning water-fo...\n",
       "Group                                                             1\n",
       "Period                                                            1\n",
       "Atomic weight                                          1.0082 3 4 9\n",
       "Density                                                   8.988e-05\n",
       "Melt                                                          14.01\n",
       "Boil                                                          20.28\n",
       "Heat                                                         14.304\n",
       "Neg10                                                           2.2\n",
       "Abundance                                                      1400\n",
       "Name: 0, dtype: object"
      ]
     },
     "execution_count": 52,
     "metadata": {},
     "output_type": "execute_result"
    }
   ],
   "source": [
    "row_hydrogen = chem_elem.iloc[0]\n",
    "row_hydrogen\n",
    "#explain the properties of hydrogen and why it supports the HR diagram"
   ]
  },
  {
   "cell_type": "code",
   "execution_count": 53,
   "metadata": {
    "collapsed": false,
    "deletable": true,
    "editable": true
   },
   "outputs": [
    {
     "data": {
      "text/plain": [
       "Element                                   Helium\n",
       "Sym                                           He\n",
       "Origin of name    the Greek 'helios' meaning sun\n",
       "Group                                         18\n",
       "Period                                         1\n",
       "Atomic weight                     4.002602(2)2 4\n",
       "Density                                0.0001785\n",
       "Melt                                       0.956\n",
       "Boil                                        4.22\n",
       "Heat                                       5.193\n",
       "Neg10                                          �\n",
       "Abundance                                  0.008\n",
       "Name: 1, dtype: object"
      ]
     },
     "execution_count": 53,
     "metadata": {},
     "output_type": "execute_result"
    }
   ],
   "source": [
    "row_helium = chem_elem.iloc[1]\n",
    "row_helium\n",
    "#explain helium as 2nd burn element"
   ]
  },
  {
   "cell_type": "code",
   "execution_count": 54,
   "metadata": {
    "collapsed": false,
    "deletable": true,
    "editable": true
   },
   "outputs": [
    {
     "data": {
      "text/plain": [
       "Element                                                  Iron\n",
       "Sym                                                        Fe\n",
       "Origin of name    the Anglo-Saxon name iren (ferrum in Latin)\n",
       "Group                                                       8\n",
       "Period                                                      4\n",
       "Atomic weight                                       55.845(2)\n",
       "Density                                                 7.874\n",
       "Melt                                                     1811\n",
       "Boil                                                     3134\n",
       "Heat                                                    0.449\n",
       "Neg10                                                    1.83\n",
       "Abundance                                               56300\n",
       "Name: 25, dtype: object"
      ]
     },
     "execution_count": 54,
     "metadata": {},
     "output_type": "execute_result"
    }
   ],
   "source": [
    "row_carbon = chem_elem.iloc[25]\n",
    "row_carbon\n",
    "#explain how iron is the final burnable element "
   ]
  },
  {
   "cell_type": "code",
   "execution_count": null,
   "metadata": {
    "collapsed": true,
    "deletable": true,
    "editable": true
   },
   "outputs": [],
   "source": []
  },
  {
   "cell_type": "code",
   "execution_count": null,
   "metadata": {
    "collapsed": true,
    "deletable": true,
    "editable": true
   },
   "outputs": [],
   "source": []
  }
 ],
 "metadata": {
  "kernelspec": {
   "display_name": "Python 2",
   "language": "python",
   "name": "python2"
  },
  "language_info": {
   "codemirror_mode": {
    "name": "ipython",
    "version": 2
   },
   "file_extension": ".py",
   "mimetype": "text/x-python",
   "name": "python",
   "nbconvert_exporter": "python",
   "pygments_lexer": "ipython2",
   "version": "2.7.12"
  }
 },
 "nbformat": 4,
 "nbformat_minor": 2
}
